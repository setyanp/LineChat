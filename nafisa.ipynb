{
 "cells": [
  {
   "cell_type": "code",
   "execution_count": 1,
   "metadata": {},
   "outputs": [],
   "source": [
    "import pandas as pd\n",
    "import numpy as np\n",
    "from dateutil.parser import parse\n",
    "import matplotlib.pyplot as plt\n",
    "import datetime\n",
    "\n",
    "data = pd.read_csv('kopi-chat-new.txt', sep=\"\\t\", header=None, names=list('abc'))\n",
    "data = data.applymap(str);"
   ]
  },
  {
   "cell_type": "code",
   "execution_count": 2,
   "metadata": {},
   "outputs": [],
   "source": [
    "def validate(date_text):\n",
    "    try:\n",
    "        datetime.datetime.strptime(date_text, '%Y/%m/%d')\n",
    "        return True\n",
    "    except ValueError:\n",
    "        return False\n",
    "\n",
    "def is_date(string):\n",
    "    try: \n",
    "        parse(string)\n",
    "        return True\n",
    "    except ValueError:\n",
    "        return False"
   ]
  },
  {
   "cell_type": "code",
   "execution_count": 3,
   "metadata": {},
   "outputs": [],
   "source": [
    "if (\"Riwayat obrolan\" in data.iloc[0]['a']): \n",
    "    data = data.drop([0,1])\n",
    "    data = data.reset_index(drop=True)\n",
    "    \n",
    "list_day = [\"(Sen)\", \"(Sel)\", \"(Rab)\", \"(Kam)\", \"(Jum)\", \"(Sab)\", \"(Min)\"]\n",
    "\n",
    "for x in range(0,len(data)):\n",
    "    a = data.iloc[x]['a']\n",
    "    if any(y in a for y in list_day):\n",
    "        for y in list_day:\n",
    "            data.iloc[x]['a'] = (data.iloc[x]['a']).replace(y, \"\")\n",
    "    data.iloc[x]['a'] = (data.iloc[x]['a']).replace(\"24:\", \"00:\")   "
   ]
  },
  {
   "cell_type": "code",
   "execution_count": 4,
   "metadata": {},
   "outputs": [],
   "source": [
    "list_delete = []\n",
    "\n",
    "for x in range(0,len(data)):\n",
    "    a = data.iloc[x]['a']\n",
    "#     print (a)\n",
    "    if (is_date(a)==False):\n",
    "        data.loc[(x-1), 'c'] += \" \" + a\n",
    "        list_delete.append(x)\n",
    "        \n",
    "data = data.drop(list_delete)        \n",
    "data = data.reset_index(drop=True)"
   ]
  },
  {
   "cell_type": "code",
   "execution_count": 5,
   "metadata": {},
   "outputs": [],
   "source": [
    "data.to_csv(\"ichanfs.csv\", sep='\\t', encoding='utf-8')"
   ]
  },
  {
   "cell_type": "code",
   "execution_count": 6,
   "metadata": {},
   "outputs": [
    {
     "data": {
      "image/png": "[encoded data removed]",
      "text/plain": [
       "<Figure size 432x288 with 1 Axes>"
      ]
     },
     "metadata": {},
     "output_type": "display_data"
    }
   ],
   "source": [
    "total_icha = len(data[data['b'] == 'Icha'])\n",
    "total_setyan = len(data[data['b'] == 'setyan pamungkas'])\n",
    "\n",
    "objects = [\"She\", \"Me\"]\n",
    "y_pos = np.arange(len(objects))\n",
    "datas = [total_icha, total_setyan]\n",
    "\n",
    "fig, ax = plt.subplots()\n",
    "ax.bar(y_pos, datas, align='center', alpha=0.5)\n",
    "ax.set_xticks(y_pos)\n",
    "ax.set_xticklabels([\"she\", \"me\"])\n",
    "ax.set_ylabel('Total Message')\n",
    "rects = ax.patches\n",
    "\n",
    "for rect, label in zip(rects, datas):\n",
    "    height = rect.get_height()\n",
    "    ax.text(rect.get_x() + rect.get_width() / 2, height -25, label,\n",
    "            ha='center', va='bottom')\n",
    "\n",
    "plt.draw()"
   ]
  },
  {
   "cell_type": "code",
   "execution_count": 7,
   "metadata": {},
   "outputs": [
    {
     "name": "stdout",
     "output_type": "stream",
     "text": [
      "233229 134082 99150\n"
     ]
    }
   ],
   "source": [
    "words_edit = pd.Series(' '.join(data['c']).lower().split())\n",
    "words_edit = words_edit[words_edit != \"nan\"]\n",
    "words_edit = words_edit.reset_index(drop=True)\n",
    "\n",
    "total_words = len(words_edit)\n",
    "\n",
    "words_setyan = pd.Series(' '.join(data['c'][data['b'] == 'setyan pamungkas']).lower().split())\n",
    "words_icha = pd.Series(' '.join(data['c'][data['b'] == 'Icha']).lower().split())\n",
    "total_words_set = len(words_setyan)\n",
    "total_words_icha = len(words_icha)\n",
    "\n",
    "# undefinied = pd.Series(' '.join(data['c'][~((data['b'] == 'Icha') | (data['b'] == 'setyan pamungkas'))]).lower().split())\n",
    "# print (undefinied)\n",
    "\n",
    "print (str(total_words) + \" \" + str(total_words_set) + \" \" + str(total_words_icha))"
   ]
  },
  {
   "cell_type": "code",
   "execution_count": 8,
   "metadata": {},
   "outputs": [
    {
     "name": "stdout",
     "output_type": "stream",
     "text": [
      "11.565456709312704\n",
      "10.671617694543107\n",
      "12.329379310344828\n"
     ]
    }
   ],
   "source": [
    "average_m = total_words/(total_icha + total_setyan)\n",
    "print (average_m)\n",
    "average_icha = total_words_icha/total_icha\n",
    "average_set = total_words_set/total_setyan\n",
    "print (average_icha)\n",
    "print (average_set)"
   ]
  },
  {
   "cell_type": "code",
   "execution_count": 40,
   "metadata": {},
   "outputs": [
    {
     "data": {
      "image/png": "[encoded data removed]",
      "text/plain": [
       "<Figure size 432x288 with 1 Axes>"
      ]
     },
     "metadata": {},
     "output_type": "display_data"
    }
   ],
   "source": [
    "labels = [\"she: \" + str(total_words_icha), \"me: \" + str(total_words_set)]\n",
    "sizes = [total_words_icha, total_words_set]\n",
    "\n",
    "colors = ['lightcoral', 'lightskyblue']\n",
    "\n",
    "fig, ax = plt.subplots()\n",
    "#ax.pie(sizes, autopct=lambda p: '{:.0f}'.format(p * total_words / 100), colors=colors, shadow=True, startangle=90)\n",
    "ax.pie(sizes, explode=(0.1, 0) ,autopct='%1.1f%%', colors=colors, shadow=True, startangle=90)\n",
    "ax.legend(labels, loc=\"upper right\")\n",
    " \n",
    "ax.axis('equal')\n",
    "plt.draw()"
   ]
  },
  {
   "cell_type": "code",
   "execution_count": 56,
   "metadata": {},
   "outputs": [
    {
     "data": {
      "image/png": "[encoded data removed]",
      "text/plain": [
       "<Figure size 432x288 with 1 Axes>"
      ]
     },
     "metadata": {},
     "output_type": "display_data"
    }
   ],
   "source": [
    "remove_word = [\"yg\", \"ga\", \"kan\", \"dan\", \"ya\", \"nan\", \"kalau\", \"aja\", \"ada\", \"di\", \n",
    "               \"itu\", \"sama\", \"ini\", \"tapi\", \"kalo\", \"(laugh)\", \"(haha)\" , \n",
    "               \"udah\",\"mau\", \"juga\", \"bisa\", \"jadi\", \"yang\", \"d\", \"lagi\",\n",
    "              \"with\", \"laughter\", \"(crying\", \"guy)\", \"kok\", \"iyaa\", \"iya\", \"gitu\", \"dia\", \"cha\", \"mas,\",\n",
    "              \"icha\", \"dia\", \"[stiker]\", \"(tertawa)\", \"wkwkwk\", \"ke\", \"sih\", \"aku\",\n",
    "              \"mas\", \"kamu\", \"tak\", \"(catface)\", \"dari\", \"apa\", \"cuman\", \"cha,\", \"tau\", \"kayak\", \"jangan\",\n",
    "              \"(har\", \"har)\", \"kayaknya\", \"?\", \"wes\", \"wkwk,\", \"buat\", \"emang\", \"banget\", \"dulu\", \"yaa\", \"biar\", \"mereka\", \n",
    "              \"banyak\", \"mas?\", \"harus\", \"pake\", \"gak\", \"trus\", \"gimana\", \"nanti\", \"e\", \"bikin\", \"[foto]\", \"tadi\", \"cha?\",\n",
    "              \"coba\", \"kita\", \"masih\", \"terus\", \"pak\", \"punya\", \"wkwk\"]\n",
    "\n",
    "words_edit = words_edit[~words_edit.isin(remove_word)]\n",
    "most_word = words_edit.value_counts()[:10]\n",
    "most_word = most_word[::-1] #reverse from low\n",
    "\n",
    "objects = list(most_word.index)\n",
    "y_pos = np.arange(len(objects))\n",
    "datas = most_word.tolist()\n",
    "\n",
    "fig, ax = plt.subplots()\n",
    "ax.barh(y_pos, datas, align='center', alpha=0.5)\n",
    "ax.set_yticks(y_pos)\n",
    "ax.set_yticklabels(objects)\n",
    "ax.set_ylabel('Total words used')\n",
    "ax.set_title('Most used words')\n",
    "rects = ax.patches\n",
    "\n",
    "# for rect, label in zip(rects, datas):\n",
    "#     height = rect.get_height()\n",
    "#     width = rect.get_width()\n",
    "#     ax.text(label + 3, rect+.25, str(label),\n",
    "#             ha='right', va='center')\n",
    "# #     ax.text(rect.get_y() + rect.get_height()/2, width -25, label,\n",
    "# #             ha='right', va='center')\n",
    "\n",
    "# print (total_words)\n",
    "plt.draw()"
   ]
  },
  {
   "cell_type": "code",
   "execution_count": 33,
   "metadata": {},
   "outputs": [],
   "source": [
    "list_delete = []\n",
    "data_date = data.reset_index(drop=True)\n",
    "data_date['d'] = ''\n",
    "\n",
    "for x in range(0,len(data_date)):\n",
    "    if (validate (data_date['a'][x])):\n",
    "        list_delete.append(x)        \n",
    "        date = data_date['a'][x]\n",
    "    else:\n",
    "        data_date['d'][x] = date \n",
    "\n",
    "data_date = data_date.drop(list_delete)\n",
    "data_date = data_date.reset_index(drop=True)"
   ]
  },
  {
   "cell_type": "code",
   "execution_count": 34,
   "metadata": {},
   "outputs": [],
   "source": [
    "data_date['e'] = ''\n",
    "\n",
    "for x in range(0,len(data_date)):\n",
    "    data_date['e'][x] = data_date['d'][x][:-3]\n",
    "\n",
    "\n",
    "# print (data_date.head(50))"
   ]
  },
  {
   "cell_type": "code",
   "execution_count": 35,
   "metadata": {},
   "outputs": [],
   "source": [
    "count_icha = data_date[data_date['b'] == 'Icha'].groupby('e')\n",
    "count_icha = count_icha.agg(np.size)\n",
    "\n",
    "count_setyan = data_date[data_date['b'] == 'setyan pamungkas'].groupby('e')\n",
    "count_setyan = count_setyan.agg(np.size)\n",
    "\n",
    "objek1 = list(count_setyan.index)\n",
    "objek2 = list(count_icha.index)\n",
    "\n",
    "not_in_icha = [x for x in objek1 if x not in objek2]\n",
    "not_in_set = [x for x in objek2 if x not in objek1]\n",
    "\n",
    "for x in range(len(not_in_icha)):\n",
    "    count_icha.loc[not_in_icha[x]] = [0, 0, 0]\n",
    "    \n",
    "for x in range(len(not_in_set)):\n",
    "    count_setyan.loc[not_in_set[x]] = [0, 0, 0]"
   ]
  },
  {
   "cell_type": "code",
   "execution_count": 36,
   "metadata": {},
   "outputs": [],
   "source": [
    "count_setyan.sort_index(inplace=True)\n",
    "count_icha.sort_index(inplace=True)\n",
    "objek = list(count_setyan.index)\n",
    "# objek = [s.replace('2018/', '') for s in objek]\n",
    "\n",
    "setyanp = count_setyan['a'].values.tolist()\n",
    "ichanfs = count_icha['a'].values.tolist()"
   ]
  },
  {
   "cell_type": "code",
   "execution_count": 42,
   "metadata": {},
   "outputs": [
    {
     "name": "stdout",
     "output_type": "stream",
     "text": [
      "[6, 653, 1029, 312, 225, 133, 114, 103, 181, 134, 118, 62, 129, 118, 103, 56, 61, 48, 151, 32, 42, 1273, 3345, 860, 70, 299, 165, 438, 268, 93, 144, 45, 65]\n",
      "[8, 660, 862, 291, 209, 121, 115, 94, 165, 122, 108, 48, 130, 109, 91, 51, 49, 40, 136, 30, 40, 1064, 2613, 799, 62, 276, 141, 372, 227, 70, 101, 41, 46]\n"
     ]
    }
   ],
   "source": [
    "print(setyanp)\n",
    "print(ichanfs)"
   ]
  },
  {
   "cell_type": "code",
   "execution_count": 38,
   "metadata": {},
   "outputs": [
    {
     "data": {
      "image/png": "[encoded data removed]",
      "text/plain": [
       "<Figure size 432x288 with 1 Axes>"
      ]
     },
     "metadata": {},
     "output_type": "display_data"
    },
    {
     "data": {
      "text/plain": [
       "<Figure size 2160x216 with 0 Axes>"
      ]
     },
     "metadata": {},
     "output_type": "display_data"
    }
   ],
   "source": [
    "ind = (np.arange(len(ichanfs)))  # the x locations for the groups\n",
    "width = 0.5       # the width of the bars\n",
    "\n",
    "fig, ax = plt.subplots()\n",
    "rects1 = ax.bar(ind, setyanp, align='edge', width=0.25, color='r')\n",
    "\n",
    "rects2 = ax.bar(ind, ichanfs, align='edge', width=-0.25, color='b')\n",
    "\n",
    "# add some text for labels, title and axes ticks\n",
    "ax.set_ylabel('Total Messages')\n",
    "ax.set_title('message by month')\n",
    "ax.set_xticks(ind)\n",
    "ax.xaxis.set_tick_params(rotation=45)\n",
    "\n",
    "ax.set_xticklabels(objek)\n",
    "\n",
    "ax.legend((rects1[0], rects2[0]), ('Me', 'She'))\n",
    "plt.figure(figsize=(30, 3))\n",
    "plt.show()"
   ]
  },
  {
   "cell_type": "code",
   "execution_count": null,
   "metadata": {},
   "outputs": [],
   "source": []
  }
 ],
 "metadata": {
  "kernelspec": {
   "display_name": "Python 3",
   "language": "python",
   "name": "python3"
  },
  "language_info": {
   "codemirror_mode": {
    "name": "ipython",
    "version": 3
   },
   "file_extension": ".py",
   "mimetype": "text/x-python",
   "name": "python",
   "nbconvert_exporter": "python",
   "pygments_lexer": "ipython3",
   "version": "3.6.5"
  }
 },
 "nbformat": 4,
 "nbformat_minor": 2
}
